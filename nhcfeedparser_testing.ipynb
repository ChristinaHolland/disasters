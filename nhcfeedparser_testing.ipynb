{
 "cells": [
  {
   "cell_type": "markdown",
   "metadata": {},
   "source": [
    "# This file is for experimentation only. The operational file is nhcfeedparser.py, to be run directly on the command line or incorporated into the FLASK backend of the SafeSpot app."
   ]
  },
  {
   "cell_type": "code",
   "execution_count": 61,
   "metadata": {},
   "outputs": [],
   "source": [
    "#!pip install feedparser\n",
    "import feedparser\n",
    "import pandas as pd\n"
   ]
  },
  {
   "cell_type": "code",
   "execution_count": 62,
   "metadata": {},
   "outputs": [
    {
     "data": {
      "text/plain": [
       "['Atlantic Tropical Weather Outlook',\n",
       " 'Summary for Tropical Storm Danny (AT4/AL042021)',\n",
       " 'Tropical Storm Danny Public Advisory Number 2',\n",
       " 'Tropical Storm Danny Forecast Advisory Number 2',\n",
       " 'Tropical Storm Danny Forecast Discussion Number 2',\n",
       " 'Tropical Storm Danny Wind Speed Probabilities Number 2',\n",
       " 'Tropical Storm Danny Graphics']"
      ]
     },
     "execution_count": 62,
     "metadata": {},
     "output_type": "execute_result"
    }
   ],
   "source": [
    "NewsFeed = feedparser.parse(\"https://www.nhc.noaa.gov/index-at.xml\")\n",
    "#NewsFeed = feedparser.parse(\"./archive_feed\")\n",
    "\n",
    "N = len(NewsFeed.entries)\n",
    "titles = [e.title for e in NewsFeed.entries]\n",
    "titles"
   ]
  },
  {
   "cell_type": "code",
   "execution_count": 81,
   "metadata": {},
   "outputs": [
    {
     "data": {
      "text/plain": [
       "['Issued at 500 PM EDT Mon Jun 28 2021  <pre>000WTNT34 KNHC 282042TCPAT4 BULLETINTropical Storm Danny Advisory Number   2NWS National Hurricane Center Miami FL       AL042021500 PM EDT Mon Jun 28 2021 ...TROPICAL STORM DANNY STRENGTHENS SOME MORE AS IT NEARS THESOUTH CAROLINA COAST...  SUMMARY OF 500 PM EDT...2100 UTC...INFORMATION----------------------------------------------LOCATION...32.3N 80.1WABOUT 35 MI...55 KM E OF BEAUFORT SOUTH CAROLINAABOUT 35 MI...60 KM SSW OF CHARLESTON SOUTH CAROLINAMAXIMUM SUSTAINED WINDS...45 MPH...75 KM/HPRESENT MOVEMENT...WNW OR 290 DEGREES AT 16 MPH...26 KM/HMINIMUM CENTRAL PRESSURE...1009 MB...29.80 INCHES  WATCHES AND WARNINGS--------------------CHANGES WITH THIS ADVISORY: None. SUMMARY OF WATCHES AND WARNINGS IN EFFECT: A Tropical Storm Warning is in effect for...* Edisto Beach to South Santee River South Carolina A Tropical Storm Warning means that tropical storm conditions areexpected somewhere within the warning area, in this case within thenext 6 hours. For storm information specific to your area, including possibleinland watches and warnings, please monitor products issued by yourlocal National Weather Service forecast office.  DISCUSSION AND OUTLOOK----------------------At 500 PM EDT (2100 UTC), the center of Tropical Storm Danny waslocated near latitude 32.3 North, longitude 80.1 West. Danny ismoving toward the west-northwest near 16 mph (26 km/h) and thisgeneral motion is expected to continue into Tuesday. On theforecast track, Danny will make landfall along the southern coastof South Carolina early this evening, and move into east-centralGeorgia late tonight and early Tuesday morning. Data from NOAA Doppler radars and reconnaissance aircraft indicatethat maximum sustained winds have increased to near 45 mph (75 km/h)with higher gusts. No change in strength is expected until landfalloccurs in a few hours.  Rapid weakening is forecast after Danny moves inland. Tropical-storm-force winds extend outward up to 35 miles (55 km)from the center. The minimum central pressure based on reports from An Air ForceReserve Unit reconnaissance aircraft is estimated to be 1009 mb(29.80 inches).  HAZARDS AFFECTING LAND----------------------Key messages for Tropical Storm Danny can be found in the TropicalCyclone Discussion under AWIPS header MIATCDAT4, WMO header WTNT44KNHC and on the web atwww.hurricanes.gov/graphics_at4.shtml?key_messages. WIND:  Tropical storm conditions are expected to first reach thecoast within the warning area very soon making outside preparationsdifficult or dangerous. RAINFALL:  Danny could produce 1 to 3 inches of rainfall withlocally higher amounts along the immediate coasts of Georgia andsouthern South Carolina. This region has been dry, limitingpotential widespread flooding impacts, however, local floodingimpacts, especially in urban areas along the southern South Carolinaand Georgia coasts, cannot be ruled out at this time. Farther inland, 1 to 2 inches of rainfall is possible across UpstateSouth Carolina, the Piedmont of Georgia, and into northeasternAlabama. STORM SURGE:  The combination of storm surge and the tide will cause normally dry areas near the coast to be flooded by rising waters moving inland from the shoreline.  The water could reach the following heights above ground somewhere in the indicated areas if the peak surge occurs at the time of high tide... Port Royal Sound, SC to South Santee River, SC...1 to 3 ft Surge-related flooding depends on the relative timing of the surgeand the tidal cycle, and can vary greatly over short distances.  Forinformation specific to your area, please see products issued byyour local National Weather Service forecast office.TORNADOES:  An isolated tornado will be possible this evening along the South Carolina coast. NEXT ADVISORY-------------Next intermediate advisory at 800 PM EDT.Next complete advisory at 1100 PM EDT. $$Forecaster Stewart </pre>']"
      ]
     },
     "execution_count": 81,
     "metadata": {},
     "output_type": "execute_result"
    }
   ],
   "source": [
    "currentadv = [n for n in range(N) if 'Public Advisory' in titles[n]][0]\n",
    "\n",
    "#chk = ''.join(NewsFeed.entries[currentadv].description.split('\\n')).split('EXTEND OUTWARD')[1].split(' ')\n",
    "chk = ''.join(NewsFeed.entries[currentadv].description.split('\\n')).split('EXTEND OUTWARD')\n",
    "chk\n"
   ]
  },
  {
   "cell_type": "code",
   "execution_count": 53,
   "metadata": {},
   "outputs": [
    {
     "data": {
      "text/plain": [
       "'LANDFALL ALONG THE COAST OF THE FLORIDA BIG BEND ON THURSDAY AFTERNOON OR EVENING IS EXPECTED'"
      ]
     },
     "execution_count": 53,
     "metadata": {},
     "output_type": "execute_result"
    }
   ],
   "source": [
    "forecastdis = [n for n in range(N) if 'Forecast Discussion' in titles[n]][0]\n",
    "chk = ''.join(NewsFeed.entries[forecastdis].summary.split('\\n')).split('. ')\n",
    "timingtext = [c for c in chk if ('LANDFALL' in c) and (('MORNING' in c) or ('AFTERNOON' in c) or ('EVENING' in c) or ('NIGHT' in c))]\n",
    "if len(timingtext)>0:\n",
    "    timingtext = timingtext[0]\n",
    "else:\n",
    "    timingtext = 'TIME OF LANDFALL UNKNOWN'\n",
    "\n",
    "timingtext"
   ]
  },
  {
   "cell_type": "code",
   "execution_count": 54,
   "metadata": {},
   "outputs": [
    {
     "data": {
      "text/html": [
       "<div>\n",
       "<style scoped>\n",
       "    .dataframe tbody tr th:only-of-type {\n",
       "        vertical-align: middle;\n",
       "    }\n",
       "\n",
       "    .dataframe tbody tr th {\n",
       "        vertical-align: top;\n",
       "    }\n",
       "\n",
       "    .dataframe thead th {\n",
       "        text-align: right;\n",
       "    }\n",
       "</style>\n",
       "<table border=\"1\" class=\"dataframe\">\n",
       "  <thead>\n",
       "    <tr style=\"text-align: right;\">\n",
       "      <th></th>\n",
       "      <th>datetime</th>\n",
       "      <th>current_latitude</th>\n",
       "      <th>current_longitude</th>\n",
       "      <th>winds_mph</th>\n",
       "      <th>storm_category</th>\n",
       "      <th>pressure_mbar</th>\n",
       "      <th>movement_direction</th>\n",
       "      <th>movement_speed</th>\n",
       "      <th>watch_updates</th>\n",
       "      <th>warning_updates</th>\n",
       "      <th>alerts_summary</th>\n",
       "    </tr>\n",
       "  </thead>\n",
       "  <tbody>\n",
       "    <tr>\n",
       "      <th>0</th>\n",
       "      <td>600 PM EDT WED JUN 05 2013</td>\n",
       "      <td>25.3N</td>\n",
       "      <td>86.5W</td>\n",
       "      <td>40 MPH</td>\n",
       "      <td>Tropical Storm</td>\n",
       "      <td>1002 MB</td>\n",
       "      <td>360 DEGREES</td>\n",
       "      <td>3 MPH</td>\n",
       "      <td>A TROPICAL STORM WATCH HAS BEEN ISSUED FOR TH...</td>\n",
       "      <td>A TROPICAL STORM WARNING HAS BEEN ISSUED FOR T...</td>\n",
       "      <td>SUMMARY OF WATCHES AND WARNINGS IN EFFECT- A ...</td>\n",
       "    </tr>\n",
       "  </tbody>\n",
       "</table>\n",
       "</div>"
      ],
      "text/plain": [
       "                     datetime current_latitude current_longitude winds_mph  \\\n",
       "0  600 PM EDT WED JUN 05 2013            25.3N             86.5W    40 MPH   \n",
       "\n",
       "   storm_category pressure_mbar movement_direction movement_speed  \\\n",
       "0  Tropical Storm       1002 MB        360 DEGREES          3 MPH   \n",
       "\n",
       "                                       watch_updates  \\\n",
       "0   A TROPICAL STORM WATCH HAS BEEN ISSUED FOR TH...   \n",
       "\n",
       "                                     warning_updates  \\\n",
       "0  A TROPICAL STORM WARNING HAS BEEN ISSUED FOR T...   \n",
       "\n",
       "                                      alerts_summary  \n",
       "0   SUMMARY OF WATCHES AND WARNINGS IN EFFECT- A ...  "
      ]
     },
     "execution_count": 54,
     "metadata": {},
     "output_type": "execute_result"
    }
   ],
   "source": [
    "\n",
    "currentadv = [n for n in range(N) if 'Public Advisory' in titles[n]]\n",
    "if len(currentadv)==0:\n",
    "    current = ''\n",
    "    \n",
    "    currentinfo = pd.DataFrame([{\n",
    "            'datetime': '',\n",
    "            'current_latitude': '',\n",
    "            'current_longitude': '',\n",
    "            'winds_mph': '',\n",
    "            'storm_category': 'NO CURRENT STORM',\n",
    "            'pressure_mbar': '',\n",
    "            'movement_direction': '',\n",
    "            'movement_speed': '',\n",
    "            'watch_updates': '',\n",
    "            'warning_updates': '',\n",
    "            'alerts_summary': ''\n",
    "        }])\n",
    "\n",
    "else:\n",
    "    entries = []\n",
    "    for n in range(len(currentadv)):\n",
    "        currentadv = currentadv[n]\n",
    "        current = ''.join(NewsFeed.entries[currentadv].summary.split('\\n'))\n",
    "        current = current.replace('--','')\n",
    "        current = ''.join([c.upper() for c in current])\n",
    "\n",
    "        pressure = current.split('PRESSURE...')[1].split('...')[0]\n",
    "        winds = current.split('WINDS...')[1].split('...')[0]\n",
    "        windval = int(winds.split(' ')[0])\n",
    "\n",
    "        if windval>=157:   category = 'Cat 5 Hurricane' \n",
    "        elif windval>=130: category = 'Cat 4 Hurricane'\n",
    "        elif windval>=111: category = 'Cat 3 Hurricane'\n",
    "        elif windval>=96:  category = 'Cat 2 Hurricane'\n",
    "        elif windval>=74:  category = 'Cat 1 Hurricane'\n",
    "        elif windval>=39:  category = 'Tropical Storm'\n",
    "        else:              category = 'Subtropical'\n",
    "\n",
    "        location = current.split('LOCATION...')[1].split(' ABOUT')[0].split(' ')\n",
    "        latitude = location[0]\n",
    "        longitude = location[1]\n",
    "\n",
    "        issuetime = current.split('ISSUED AT ')[1].split(' <PRE')[0]\n",
    "\n",
    "        movement = current.split('MOVEMENT...')[1].split('...')[0].split(' OR ')[1].split(' AT ')\n",
    "        pathdirection = movement[0]\n",
    "        pathspeed = movement[1]\n",
    "\n",
    "        warningtext = current.split('CHANGES WITH THIS ADVISORY... ')[1].split(' DISCUSSION')[0]\n",
    "        warningtext = warningtext.replace('U.S.','US')\n",
    "        warningtext = warningtext.replace('...','-')\n",
    "        warningtext = warningtext.replace(' A TROPICAL STORM WARNING MEANS THAT TROPICAL STORM CONDITIONS ARE EXPECTED SOMEWHERE WITHIN THE WARNING AREA WITHIN 36 HOURS.','')\n",
    "        warningtext = warningtext.replace(' A TROPICAL STORM WATCH MEANS THAT TROPICAL STORM CONDITIONS ARE POSSIBLE WITHIN THE WATCH AREA-GENERALLY WITHIN 48 HOURS.','')\n",
    "        warningtext = warningtext.replace(' FOR STORM INFORMATION SPECIFIC TO YOUR AREA-INCLUDING POSSIBLE INLAND WATCHES AND WARNINGS-PLEASE MONITOR PRODUCTS ISSUED BY YOUR LOCAL NATIONAL WEATHER SERVICE FORECAST OFFICE.','')\n",
    "\n",
    "        alerts = warningtext.split('.')\n",
    "        summarytext   = ''.join([c for c in alerts if ('SUMMARY' in c)])\n",
    "        watchtext   = ''.join([c for c in alerts if ('WATCH' in c) and ('SUMMARY' not in c)])\n",
    "        warningtext = ''.join([c for c in alerts if ('WARNING' in c) and ('SUMMARY' not in c)])\n",
    "        if (watchtext=='') and (warningtext==''): summarytext = 'NO CHANGES: ' + summarytext\n",
    "\n",
    "        entries.append({\n",
    "            'datetime': issuetime,\n",
    "            'current_latitude': latitude,\n",
    "            'current_longitude': longitude,\n",
    "            'winds_mph': winds,\n",
    "            'storm_category': category,\n",
    "            'pressure_mbar': pressure,\n",
    "            'movement_direction': pathdirection,\n",
    "            'movement_speed': pathspeed,\n",
    "            'watch_updates': watchtext,\n",
    "            'warning_updates': warningtext,\n",
    "            'alerts_summary': summarytext\n",
    "        })\n",
    "    currentinfo = pd.DataFrame(entries)\n",
    "    \n",
    "    \n",
    "currentinfo"
   ]
  },
  {
   "cell_type": "code",
   "execution_count": 55,
   "metadata": {},
   "outputs": [],
   "source": [
    "\n",
    "currentinfo.to_csv('./currentstorminfo.csv', index=False)"
   ]
  },
  {
   "cell_type": "code",
   "execution_count": 60,
   "metadata": {},
   "outputs": [
    {
     "data": {
      "text/plain": [
       "(25.3, -86.5)"
      ]
     },
     "execution_count": 60,
     "metadata": {},
     "output_type": "execute_result"
    }
   ],
   "source": [
    "location = current.split('LOCATION...')[1].split(' ABOUT')[0].split(' ')\n",
    "latitude = float(location[0].replace('N',''))\n",
    "longitude = -1*float(location[1].replace('W',''))\n",
    "latitude, longitude"
   ]
  },
  {
   "cell_type": "markdown",
   "metadata": {},
   "source": [
    "For future development:"
   ]
  },
  {
   "cell_type": "code",
   "execution_count": 175,
   "metadata": {},
   "outputs": [
    {
     "data": {
      "text/plain": [
       "[147]"
      ]
     },
     "execution_count": 175,
     "metadata": {},
     "output_type": "execute_result"
    }
   ],
   "source": [
    "import requests\n",
    "base_url = 'https://api.weather.gov/'\n",
    "response = requests.get(base_url + 'alerts/active?urgency=expected')\n",
    "# for everything:\n",
    "response.json()\n",
    "#real alerts:\n",
    "L = len(response.json()['features'])\n",
    "hurricanealerts = [n for n in range(L) if 'Hurricane' in response.json()['features'][n]['properties']['event']]\n",
    "tropstormalerts = [n for n in range(L) if 'Tropical' in response.json()['features'][n]['properties']['event']]\n",
    "windalerts = [n for n in range(L) if 'Wind' in response.json()['features'][n]['properties']['event']]\n",
    "windalerts"
   ]
  },
  {
   "cell_type": "code",
   "execution_count": 176,
   "metadata": {},
   "outputs": [
    {
     "data": {
      "text/plain": [
       "'Lake Wind Advisory'"
      ]
     },
     "execution_count": 176,
     "metadata": {},
     "output_type": "execute_result"
    }
   ],
   "source": [
    "chk = response.json()['features'][147]\n",
    "chk['properties']['event']"
   ]
  },
  {
   "cell_type": "code",
   "execution_count": 169,
   "metadata": {},
   "outputs": [
    {
     "data": {
      "text/plain": [
       "['911 Telephone Outage Emergency',\n",
       " 'Administrative Message',\n",
       " 'Air Quality Alert',\n",
       " 'Air Stagnation Advisory',\n",
       " 'Arroyo And Small Stream Flood Advisory',\n",
       " 'Ashfall Advisory',\n",
       " 'Ashfall Warning',\n",
       " 'Avalanche Advisory',\n",
       " 'Avalanche Warning',\n",
       " 'Avalanche Watch',\n",
       " 'Beach Hazards Statement',\n",
       " 'Blizzard Warning',\n",
       " 'Blizzard Watch',\n",
       " 'Blowing Dust Advisory',\n",
       " 'Blowing Dust Warning',\n",
       " 'Brisk Wind Advisory',\n",
       " 'Child Abduction Emergency',\n",
       " 'Civil Danger Warning',\n",
       " 'Civil Emergency Message',\n",
       " 'Coastal Flood Advisory',\n",
       " 'Coastal Flood Statement',\n",
       " 'Coastal Flood Warning',\n",
       " 'Coastal Flood Watch',\n",
       " 'Dense Fog Advisory',\n",
       " 'Dense Smoke Advisory',\n",
       " 'Dust Advisory',\n",
       " 'Dust Storm Warning',\n",
       " 'Earthquake Warning',\n",
       " 'Evacuation - Immediate',\n",
       " 'Excessive Heat Warning',\n",
       " 'Excessive Heat Watch',\n",
       " 'Extreme Cold Warning',\n",
       " 'Extreme Cold Watch',\n",
       " 'Extreme Fire Danger',\n",
       " 'Extreme Wind Warning',\n",
       " 'Fire Warning',\n",
       " 'Fire Weather Watch',\n",
       " 'Flash Flood Statement',\n",
       " 'Flash Flood Warning',\n",
       " 'Flash Flood Watch',\n",
       " 'Flood Advisory',\n",
       " 'Flood Statement',\n",
       " 'Flood Warning',\n",
       " 'Flood Watch',\n",
       " 'Freeze Warning',\n",
       " 'Freeze Watch',\n",
       " 'Freezing Fog Advisory',\n",
       " 'Freezing Rain Advisory',\n",
       " 'Freezing Spray Advisory',\n",
       " 'Frost Advisory',\n",
       " 'Gale Warning',\n",
       " 'Gale Watch',\n",
       " 'Hard Freeze Warning',\n",
       " 'Hard Freeze Watch',\n",
       " 'Hazardous Materials Warning',\n",
       " 'Hazardous Seas Warning',\n",
       " 'Hazardous Seas Watch',\n",
       " 'Hazardous Weather Outlook',\n",
       " 'Heat Advisory',\n",
       " 'Heavy Freezing Spray Warning',\n",
       " 'Heavy Freezing Spray Watch',\n",
       " 'High Surf Advisory',\n",
       " 'High Surf Warning',\n",
       " 'High Wind Warning',\n",
       " 'High Wind Watch',\n",
       " 'Hurricane Force Wind Warning',\n",
       " 'Hurricane Force Wind Watch',\n",
       " 'Hurricane Local Statement',\n",
       " 'Hurricane Warning',\n",
       " 'Hurricane Watch',\n",
       " 'Hydrologic Advisory',\n",
       " 'Hydrologic Outlook',\n",
       " 'Ice Storm Warning',\n",
       " 'Lake Effect Snow Advisory',\n",
       " 'Lake Effect Snow Warning',\n",
       " 'Lake Effect Snow Watch',\n",
       " 'Lake Wind Advisory',\n",
       " 'Lakeshore Flood Advisory',\n",
       " 'Lakeshore Flood Statement',\n",
       " 'Lakeshore Flood Warning',\n",
       " 'Lakeshore Flood Watch',\n",
       " 'Law Enforcement Warning',\n",
       " 'Local Area Emergency',\n",
       " 'Low Water Advisory',\n",
       " 'Marine Weather Statement',\n",
       " 'Nuclear Power Plant Warning',\n",
       " 'Radiological Hazard Warning',\n",
       " 'Red Flag Warning',\n",
       " 'Rip Current Statement',\n",
       " 'Severe Thunderstorm Warning',\n",
       " 'Severe Thunderstorm Watch',\n",
       " 'Severe Weather Statement',\n",
       " 'Shelter In Place Warning',\n",
       " 'Short Term Forecast',\n",
       " 'Small Craft Advisory',\n",
       " 'Small Craft Advisory For Hazardous Seas',\n",
       " 'Small Craft Advisory For Rough Bar',\n",
       " 'Small Craft Advisory For Winds',\n",
       " 'Small Stream Flood Advisory',\n",
       " 'Snow Squall Warning',\n",
       " 'Special Marine Warning',\n",
       " 'Special Weather Statement',\n",
       " 'Storm Surge Warning',\n",
       " 'Storm Surge Watch',\n",
       " 'Storm Warning',\n",
       " 'Storm Watch',\n",
       " 'Test',\n",
       " 'Tornado Warning',\n",
       " 'Tornado Watch',\n",
       " 'Tropical Depression Local Statement',\n",
       " 'Tropical Storm Local Statement',\n",
       " 'Tropical Storm Warning',\n",
       " 'Tropical Storm Watch',\n",
       " 'Tsunami Advisory',\n",
       " 'Tsunami Warning',\n",
       " 'Tsunami Watch',\n",
       " 'Typhoon Local Statement',\n",
       " 'Typhoon Warning',\n",
       " 'Typhoon Watch',\n",
       " 'Urban And Small Stream Flood Advisory',\n",
       " 'Volcano Warning',\n",
       " 'Wind Advisory',\n",
       " 'Wind Chill Advisory',\n",
       " 'Wind Chill Warning',\n",
       " 'Wind Chill Watch',\n",
       " 'Winter Storm Warning',\n",
       " 'Winter Storm Watch',\n",
       " 'Winter Weather Advisory']"
      ]
     },
     "execution_count": 169,
     "metadata": {},
     "output_type": "execute_result"
    }
   ],
   "source": [
    "# neat! all the types of alerts:\n",
    "response = requests.get(base_url + 'alerts/types')\n",
    "response.json()['eventTypes']"
   ]
  },
  {
   "cell_type": "code",
   "execution_count": null,
   "metadata": {},
   "outputs": [],
   "source": []
  }
 ],
 "metadata": {
  "kernelspec": {
   "display_name": "Python 3",
   "language": "python",
   "name": "python3"
  },
  "language_info": {
   "codemirror_mode": {
    "name": "ipython",
    "version": 3
   },
   "file_extension": ".py",
   "mimetype": "text/x-python",
   "name": "python",
   "nbconvert_exporter": "python",
   "pygments_lexer": "ipython3",
   "version": "3.8.5"
  }
 },
 "nbformat": 4,
 "nbformat_minor": 4
}
